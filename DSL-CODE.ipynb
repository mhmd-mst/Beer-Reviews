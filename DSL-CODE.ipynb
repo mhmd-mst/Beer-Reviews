{
 "cells": [
  {
   "cell_type": "code",
   "execution_count": 43,
   "metadata": {
    "colab": {
     "base_uri": "https://localhost:8080/"
    },
    "executionInfo": {
     "elapsed": 1689,
     "status": "ok",
     "timestamp": 1626097353304,
     "user": {
      "displayName": "ALMOUDI MOSTAFA",
      "photoUrl": "https://lh3.googleusercontent.com/a-/AOh14Ggag6Su7xYEbeg02b3KD79PPONoKQ9i52rxvDSbYw=s64",
      "userId": "02569998257955289351"
     },
     "user_tz": -180
    },
    "id": "YcgXFI2mhKF1",
    "outputId": "6fbce2d5-c40b-4021-bf19-54fee1cdef77"
   },
   "outputs": [
    {
     "name": "stdout",
     "output_type": "stream",
     "text": [
      "dev set size 70000, eval set size 30000\n"
     ]
    }
   ],
   "source": [
    "import numpy as np\n",
    "import pandas as pd\n",
    "import matplotlib.pyplot as plt\n",
    "import seaborn as sns\n",
    "df_dev=pd.read_csv(\"development.tsv\",sep='\\t')\n",
    "df_eval=pd.read_csv(\"evaluation.tsv\",sep='\\t')\n",
    "df = pd.concat([df_dev, df_eval], sort=False)\n",
    "print(f\"dev set size {df_dev.shape[0]}, eval set size {df_eval.shape[0]}\")"
   ]
  },
  {
   "cell_type": "code",
   "execution_count": 44,
   "metadata": {
    "colab": {
     "base_uri": "https://localhost:8080/"
    },
    "executionInfo": {
     "elapsed": 11,
     "status": "ok",
     "timestamp": 1626097353305,
     "user": {
      "displayName": "ALMOUDI MOSTAFA",
      "photoUrl": "https://lh3.googleusercontent.com/a-/AOh14Ggag6Su7xYEbeg02b3KD79PPONoKQ9i52rxvDSbYw=s64",
      "userId": "02569998257955289351"
     },
     "user_tz": -180
    },
    "id": "1ARPGIivhKF3",
    "outputId": "52bda3c9-3f5d-40d8-fac7-dad589c0a6c4",
    "scrolled": true
   },
   "outputs": [
    {
     "name": "stdout",
     "output_type": "stream",
     "text": [
      "<class 'pandas.core.frame.DataFrame'>\n",
      "RangeIndex: 70000 entries, 0 to 69999\n",
      "Data columns (total 14 columns):\n",
      " #   Column             Non-Null Count  Dtype  \n",
      "---  ------             --------------  -----  \n",
      " 0   beer/ABV           66893 non-null  float64\n",
      " 1   beer/name          70000 non-null  object \n",
      " 2   beer/style         70000 non-null  object \n",
      " 3   review/appearance  70000 non-null  float64\n",
      " 4   review/aroma       70000 non-null  float64\n",
      " 5   review/overall     70000 non-null  float64\n",
      " 6   review/palate      70000 non-null  float64\n",
      " 7   review/taste       70000 non-null  float64\n",
      " 8   review/text        69982 non-null  object \n",
      " 9   user/ageInSeconds  14645 non-null  float64\n",
      " 10  user/birthdayRaw   14645 non-null  object \n",
      " 11  user/birthdayUnix  14645 non-null  float64\n",
      " 12  user/gender        28181 non-null  object \n",
      " 13  user/profileName   69986 non-null  object \n",
      "dtypes: float64(8), object(6)\n",
      "memory usage: 7.5+ MB\n"
     ]
    }
   ],
   "source": [
    "df_dev.info()"
   ]
  },
  {
   "cell_type": "code",
   "execution_count": 45,
   "metadata": {
    "colab": {
     "base_uri": "https://localhost:8080/",
     "height": 296
    },
    "executionInfo": {
     "elapsed": 10,
     "status": "ok",
     "timestamp": 1626097353305,
     "user": {
      "displayName": "ALMOUDI MOSTAFA",
      "photoUrl": "https://lh3.googleusercontent.com/a-/AOh14Ggag6Su7xYEbeg02b3KD79PPONoKQ9i52rxvDSbYw=s64",
      "userId": "02569998257955289351"
     },
     "user_tz": -180
    },
    "id": "n5e4z9sVhKF4",
    "outputId": "b910c7b9-4955-409d-b1e9-0044aecab2da",
    "scrolled": true
   },
   "outputs": [
    {
     "data": {
      "text/plain": [
       "<AxesSubplot:xlabel='review/overall', ylabel='count'>"
      ]
     },
     "execution_count": 45,
     "metadata": {},
     "output_type": "execute_result"
    },
    {
     "data": {
      "image/png": "[encoded data removed]",
      "text/plain": [
       "<Figure size 432x288 with 1 Axes>"
      ]
     },
     "metadata": {
      "needs_background": "light"
     },
     "output_type": "display_data"
    }
   ],
   "source": [
    "sns.countplot(x='review/overall',data=df_dev,color='darkred')"
   ]
  },
  {
   "cell_type": "code",
   "execution_count": 46,
   "metadata": {
    "colab": {
     "base_uri": "https://localhost:8080/"
    },
    "executionInfo": {
     "elapsed": 7,
     "status": "ok",
     "timestamp": 1626097353306,
     "user": {
      "displayName": "ALMOUDI MOSTAFA",
      "photoUrl": "https://lh3.googleusercontent.com/a-/AOh14Ggag6Su7xYEbeg02b3KD79PPONoKQ9i52rxvDSbYw=s64",
      "userId": "02569998257955289351"
     },
     "user_tz": -180
    },
    "id": "gZdVGU-fhKF4",
    "outputId": "4606e0e5-ef4d-442f-a922-bde9bd3c65f5",
    "scrolled": true
   },
   "outputs": [
    {
     "name": "stdout",
     "output_type": "stream",
     "text": [
      "The skewness of target variable is -1.0235674030883761 and the kutosis is 1.6288439531922938\n"
     ]
    }
   ],
   "source": [
    "print(f\"The skewness of target variable is {df_dev['review/overall'].skew()} and the kutosis is {df_dev['review/overall'].kurtosis()}\")"
   ]
  },
  {
   "cell_type": "code",
   "execution_count": 47,
   "metadata": {
    "colab": {
     "base_uri": "https://localhost:8080/",
     "height": 296
    },
    "executionInfo": {
     "elapsed": 11,
     "status": "ok",
     "timestamp": 1626097353825,
     "user": {
      "displayName": "ALMOUDI MOSTAFA",
      "photoUrl": "https://lh3.googleusercontent.com/a-/AOh14Ggag6Su7xYEbeg02b3KD79PPONoKQ9i52rxvDSbYw=s64",
      "userId": "02569998257955289351"
     },
     "user_tz": -180
    },
    "id": "ZX1VSX6chKF4",
    "outputId": "ec7a3d8a-722c-4427-f052-d05073329c1b"
   },
   "outputs": [
    {
     "data": {
      "text/plain": [
       "<AxesSubplot:xlabel='user/ageInYear'>"
      ]
     },
     "execution_count": 47,
     "metadata": {},
     "output_type": "execute_result"
    },
    {
     "data": {
      "image/png": "[encoded data removed]",
      "text/plain": [
       "<Figure size 432x288 with 1 Axes>"
      ]
     },
     "metadata": {
      "needs_background": "light"
     },
     "output_type": "display_data"
    }
   ],
   "source": [
    "converter=31556952\n",
    "df_dev['user/ageInYear']=df_dev['user/ageInSeconds']/converter\n",
    "sns.boxplot(x='user/ageInYear',data=df_dev)"
   ]
  },
  {
   "cell_type": "code",
   "execution_count": 48,
   "metadata": {
    "executionInfo": {
     "elapsed": 11,
     "status": "ok",
     "timestamp": 1626097353827,
     "user": {
      "displayName": "ALMOUDI MOSTAFA",
      "photoUrl": "https://lh3.googleusercontent.com/a-/AOh14Ggag6Su7xYEbeg02b3KD79PPONoKQ9i52rxvDSbYw=s64",
      "userId": "02569998257955289351"
     },
     "user_tz": -180
    },
    "id": "J2B2WMEshKF5"
   },
   "outputs": [],
   "source": [
    "df_dev.drop(columns='user/ageInYear',inplace=True)"
   ]
  },
  {
   "cell_type": "code",
   "execution_count": 49,
   "metadata": {
    "colab": {
     "base_uri": "https://localhost:8080/",
     "height": 296
    },
    "executionInfo": {
     "elapsed": 11,
     "status": "ok",
     "timestamp": 1626097353828,
     "user": {
      "displayName": "ALMOUDI MOSTAFA",
      "photoUrl": "https://lh3.googleusercontent.com/a-/AOh14Ggag6Su7xYEbeg02b3KD79PPONoKQ9i52rxvDSbYw=s64",
      "userId": "02569998257955289351"
     },
     "user_tz": -180
    },
    "id": "84bX4B74hKF5",
    "outputId": "31265c87-3be9-4cfc-878a-4a7cd6575e16"
   },
   "outputs": [
    {
     "data": {
      "text/plain": [
       "<AxesSubplot:xlabel='beer/ABV'>"
      ]
     },
     "execution_count": 49,
     "metadata": {},
     "output_type": "execute_result"
    },
    {
     "data": {
      "image/png": "[encoded data removed]",
      "text/plain": [
       "<Figure size 432x288 with 1 Axes>"
      ]
     },
     "metadata": {
      "needs_background": "light"
     },
     "output_type": "display_data"
    }
   ],
   "source": [
    "sns.boxplot(x='beer/ABV',data=df_dev)"
   ]
  },
  {
   "cell_type": "markdown",
   "metadata": {
    "id": "5MkQ1rJzhKF5"
   },
   "source": [
    "Some beers have different ABV and may even have missing values."
   ]
  },
  {
   "cell_type": "code",
   "execution_count": 50,
   "metadata": {
    "colab": {
     "base_uri": "https://localhost:8080/",
     "height": 465
    },
    "executionInfo": {
     "elapsed": 4,
     "status": "ok",
     "timestamp": 1626097354284,
     "user": {
      "displayName": "ALMOUDI MOSTAFA",
      "photoUrl": "https://lh3.googleusercontent.com/a-/AOh14Ggag6Su7xYEbeg02b3KD79PPONoKQ9i52rxvDSbYw=s64",
      "userId": "02569998257955289351"
     },
     "user_tz": -180
    },
    "id": "5oxGdfbChKF6",
    "outputId": "8a944f72-9c6e-4831-ac0a-c87d006ce6d5",
    "scrolled": false
   },
   "outputs": [
    {
     "data": {
      "text/html": [
       "<div>\n",
       "<style scoped>\n",
       "    .dataframe tbody tr th:only-of-type {\n",
       "        vertical-align: middle;\n",
       "    }\n",
       "\n",
       "    .dataframe tbody tr th {\n",
       "        vertical-align: top;\n",
       "    }\n",
       "\n",
       "    .dataframe thead th {\n",
       "        text-align: right;\n",
       "    }\n",
       "</style>\n",
       "<table border=\"1\" class=\"dataframe\">\n",
       "  <thead>\n",
       "    <tr style=\"text-align: right;\">\n",
       "      <th></th>\n",
       "      <th>beer/ABV</th>\n",
       "      <th>beer/name</th>\n",
       "      <th>beer/style</th>\n",
       "      <th>review/appearance</th>\n",
       "      <th>review/aroma</th>\n",
       "      <th>review/overall</th>\n",
       "      <th>review/palate</th>\n",
       "      <th>review/taste</th>\n",
       "      <th>review/text</th>\n",
       "      <th>user/ageInSeconds</th>\n",
       "      <th>user/birthdayRaw</th>\n",
       "      <th>user/birthdayUnix</th>\n",
       "      <th>user/gender</th>\n",
       "      <th>user/profileName</th>\n",
       "    </tr>\n",
       "  </thead>\n",
       "  <tbody>\n",
       "    <tr>\n",
       "      <th>97</th>\n",
       "      <td>NaN</td>\n",
       "      <td>Witbier</td>\n",
       "      <td>Witbier</td>\n",
       "      <td>3.5</td>\n",
       "      <td>2.5</td>\n",
       "      <td>3.0</td>\n",
       "      <td>4.0</td>\n",
       "      <td>3.0</td>\n",
       "      <td>From the notes on the menu: \"A Belgian style W...</td>\n",
       "      <td>NaN</td>\n",
       "      <td>NaN</td>\n",
       "      <td>NaN</td>\n",
       "      <td>NaN</td>\n",
       "      <td>HeroJH</td>\n",
       "    </tr>\n",
       "    <tr>\n",
       "      <th>6196</th>\n",
       "      <td>NaN</td>\n",
       "      <td>Witbier</td>\n",
       "      <td>Witbier</td>\n",
       "      <td>4.0</td>\n",
       "      <td>2.5</td>\n",
       "      <td>5.0</td>\n",
       "      <td>4.5</td>\n",
       "      <td>4.0</td>\n",
       "      <td>One first pour you are just blown away by the ...</td>\n",
       "      <td>NaN</td>\n",
       "      <td>NaN</td>\n",
       "      <td>NaN</td>\n",
       "      <td>NaN</td>\n",
       "      <td>Ave</td>\n",
       "    </tr>\n",
       "    <tr>\n",
       "      <th>33865</th>\n",
       "      <td>4.6</td>\n",
       "      <td>Witbier</td>\n",
       "      <td>Witbier</td>\n",
       "      <td>4.5</td>\n",
       "      <td>4.5</td>\n",
       "      <td>3.5</td>\n",
       "      <td>3.0</td>\n",
       "      <td>3.0</td>\n",
       "      <td>Aroma: A nice Belgian yeast nose with the oran...</td>\n",
       "      <td>NaN</td>\n",
       "      <td>NaN</td>\n",
       "      <td>NaN</td>\n",
       "      <td>NaN</td>\n",
       "      <td>HardTarget</td>\n",
       "    </tr>\n",
       "    <tr>\n",
       "      <th>50578</th>\n",
       "      <td>4.0</td>\n",
       "      <td>Witbier</td>\n",
       "      <td>Witbier</td>\n",
       "      <td>2.0</td>\n",
       "      <td>4.0</td>\n",
       "      <td>4.0</td>\n",
       "      <td>4.0</td>\n",
       "      <td>3.5</td>\n",
       "      <td>This beer came a washed out gold that looked m...</td>\n",
       "      <td>NaN</td>\n",
       "      <td>NaN</td>\n",
       "      <td>NaN</td>\n",
       "      <td>NaN</td>\n",
       "      <td>DarkerTheBetter</td>\n",
       "    </tr>\n",
       "  </tbody>\n",
       "</table>\n",
       "</div>"
      ],
      "text/plain": [
       "       beer/ABV beer/name beer/style  review/appearance  review/aroma  \\\n",
       "97          NaN   Witbier    Witbier                3.5           2.5   \n",
       "6196        NaN   Witbier    Witbier                4.0           2.5   \n",
       "33865       4.6   Witbier    Witbier                4.5           4.5   \n",
       "50578       4.0   Witbier    Witbier                2.0           4.0   \n",
       "\n",
       "       review/overall  review/palate  review/taste  \\\n",
       "97                3.0            4.0           3.0   \n",
       "6196              5.0            4.5           4.0   \n",
       "33865             3.5            3.0           3.0   \n",
       "50578             4.0            4.0           3.5   \n",
       "\n",
       "                                             review/text  user/ageInSeconds  \\\n",
       "97     From the notes on the menu: \"A Belgian style W...                NaN   \n",
       "6196   One first pour you are just blown away by the ...                NaN   \n",
       "33865  Aroma: A nice Belgian yeast nose with the oran...                NaN   \n",
       "50578  This beer came a washed out gold that looked m...                NaN   \n",
       "\n",
       "      user/birthdayRaw  user/birthdayUnix user/gender user/profileName  \n",
       "97                 NaN                NaN         NaN           HeroJH  \n",
       "6196               NaN                NaN         NaN              Ave  \n",
       "33865              NaN                NaN         NaN       HardTarget  \n",
       "50578              NaN                NaN         NaN  DarkerTheBetter  "
      ]
     },
     "execution_count": 50,
     "metadata": {},
     "output_type": "execute_result"
    }
   ],
   "source": [
    "df_dev[df_dev['beer/name']=='Witbier']"
   ]
  },
  {
   "cell_type": "code",
   "execution_count": 51,
   "metadata": {
    "colab": {
     "base_uri": "https://localhost:8080/",
     "height": 168
    },
    "executionInfo": {
     "elapsed": 4,
     "status": "ok",
     "timestamp": 1626097354727,
     "user": {
      "displayName": "ALMOUDI MOSTAFA",
      "photoUrl": "https://lh3.googleusercontent.com/a-/AOh14Ggag6Su7xYEbeg02b3KD79PPONoKQ9i52rxvDSbYw=s64",
      "userId": "02569998257955289351"
     },
     "user_tz": -180
    },
    "id": "lGXX9vdThKF6",
    "outputId": "e3572f7a-c1e1-4bea-8438-7d2e74ce5660"
   },
   "outputs": [
    {
     "data": {
      "text/html": [
       "<div>\n",
       "<style scoped>\n",
       "    .dataframe tbody tr th:only-of-type {\n",
       "        vertical-align: middle;\n",
       "    }\n",
       "\n",
       "    .dataframe tbody tr th {\n",
       "        vertical-align: top;\n",
       "    }\n",
       "\n",
       "    .dataframe thead th {\n",
       "        text-align: right;\n",
       "    }\n",
       "</style>\n",
       "<table border=\"1\" class=\"dataframe\">\n",
       "  <thead>\n",
       "    <tr style=\"text-align: right;\">\n",
       "      <th></th>\n",
       "      <th>beer/ABV</th>\n",
       "      <th>beer/name</th>\n",
       "      <th>beer/style</th>\n",
       "      <th>review/appearance</th>\n",
       "      <th>review/aroma</th>\n",
       "      <th>review/overall</th>\n",
       "      <th>review/palate</th>\n",
       "      <th>review/taste</th>\n",
       "      <th>review/text</th>\n",
       "      <th>user/ageInSeconds</th>\n",
       "      <th>user/birthdayRaw</th>\n",
       "      <th>user/birthdayUnix</th>\n",
       "      <th>user/gender</th>\n",
       "      <th>user/profileName</th>\n",
       "    </tr>\n",
       "  </thead>\n",
       "  <tbody>\n",
       "    <tr>\n",
       "      <th>577</th>\n",
       "      <td>NaN</td>\n",
       "      <td>Dark Marc</td>\n",
       "      <td>American Black Ale</td>\n",
       "      <td>4.0</td>\n",
       "      <td>4.0</td>\n",
       "      <td>4.0</td>\n",
       "      <td>4.0</td>\n",
       "      <td>4.0</td>\n",
       "      <td>On draught at the Dog and Pony, Dark Marc is b...</td>\n",
       "      <td>1.137507e+09</td>\n",
       "      <td>Nov 25, 1978</td>\n",
       "      <td>280828800.0</td>\n",
       "      <td>Male</td>\n",
       "      <td>ccrida</td>\n",
       "    </tr>\n",
       "  </tbody>\n",
       "</table>\n",
       "</div>"
      ],
      "text/plain": [
       "     beer/ABV  beer/name          beer/style  review/appearance  review/aroma  \\\n",
       "577       NaN  Dark Marc  American Black Ale                4.0           4.0   \n",
       "\n",
       "     review/overall  review/palate  review/taste  \\\n",
       "577             4.0            4.0           4.0   \n",
       "\n",
       "                                           review/text  user/ageInSeconds  \\\n",
       "577  On draught at the Dog and Pony, Dark Marc is b...       1.137507e+09   \n",
       "\n",
       "    user/birthdayRaw  user/birthdayUnix user/gender user/profileName  \n",
       "577     Nov 25, 1978        280828800.0        Male           ccrida  "
      ]
     },
     "execution_count": 51,
     "metadata": {},
     "output_type": "execute_result"
    }
   ],
   "source": [
    "df_dev[df_dev['beer/name']=='Dark Marc']"
   ]
  },
  {
   "cell_type": "code",
   "execution_count": 52,
   "metadata": {
    "executionInfo": {
     "elapsed": 134624,
     "status": "ok",
     "timestamp": 1626097489348,
     "user": {
      "displayName": "ALMOUDI MOSTAFA",
      "photoUrl": "https://lh3.googleusercontent.com/a-/AOh14Ggag6Su7xYEbeg02b3KD79PPONoKQ9i52rxvDSbYw=s64",
      "userId": "02569998257955289351"
     },
     "user_tz": -180
    },
    "id": "sYYeJQXBhKF6"
   },
   "outputs": [],
   "source": [
    "#Filling missing values for beer/ABV\n",
    "for i in df.loc[df['beer/ABV'].isna(),'beer/name']:\n",
    "    if df.loc[df['beer/name']==i,'beer/ABV'].isna().sum()==df[df['beer/name']==i].shape[0]:\n",
    "        df.loc[df['beer/name']==i,'beer/ABV']=df.loc[df['beer/name']==i,'beer/ABV'].fillna((df['beer/ABV'].mean()))\n",
    "    else:\n",
    "        df.loc[(df['beer/name']==i)&(df['beer/ABV'].isna()),'beer/ABV']=\\\n",
    "        df.loc[(df['beer/name']==i)&(df['beer/ABV'].isna()),'beer/ABV']\\\n",
    "        .fillna((df.loc[df['beer/name']==i,'beer/ABV'].mean()))"
   ]
  },
  {
   "cell_type": "code",
   "execution_count": 53,
   "metadata": {
    "colab": {
     "base_uri": "https://localhost:8080/",
     "height": 282
    },
    "executionInfo": {
     "elapsed": 11,
     "status": "ok",
     "timestamp": 1626097489349,
     "user": {
      "displayName": "ALMOUDI MOSTAFA",
      "photoUrl": "https://lh3.googleusercontent.com/a-/AOh14Ggag6Su7xYEbeg02b3KD79PPONoKQ9i52rxvDSbYw=s64",
      "userId": "02569998257955289351"
     },
     "user_tz": -180
    },
    "id": "Sk1AB9bHhKF6",
    "outputId": "3409814b-981b-4fd5-b21d-56d2c1679799",
    "scrolled": true
   },
   "outputs": [
    {
     "data": {
      "text/plain": [
       "<AxesSubplot:>"
      ]
     },
     "execution_count": 53,
     "metadata": {},
     "output_type": "execute_result"
    },
    {
     "data": {
      "image/png": "[encoded data removed]",
      "text/plain": [
       "<Figure size 432x288 with 1 Axes>"
      ]
     },
     "metadata": {
      "needs_background": "light"
     },
     "output_type": "display_data"
    }
   ],
   "source": [
    "sns.boxplot(data=df_dev[['review/appearance','review/aroma','review/palate','review/taste']])"
   ]
  },
  {
   "cell_type": "code",
   "execution_count": 54,
   "metadata": {
    "colab": {
     "base_uri": "https://localhost:8080/",
     "height": 334
    },
    "executionInfo": {
     "elapsed": 521,
     "status": "ok",
     "timestamp": 1626097489860,
     "user": {
      "displayName": "ALMOUDI MOSTAFA",
      "photoUrl": "https://lh3.googleusercontent.com/a-/AOh14Ggag6Su7xYEbeg02b3KD79PPONoKQ9i52rxvDSbYw=s64",
      "userId": "02569998257955289351"
     },
     "user_tz": -180
    },
    "id": "aWlPg9KvhKF7",
    "outputId": "6c3e2c9d-fb78-42f5-9f18-43aab312c80e",
    "scrolled": true
   },
   "outputs": [
    {
     "data": {
      "image/png": "[encoded data removed]",
      "text/plain": [
       "<Figure size 432x360 with 1 Axes>"
      ]
     },
     "metadata": {
      "needs_background": "light"
     },
     "output_type": "display_data"
    }
   ],
   "source": [
    "df_dev['user/gender'].fillna(\"unknown\",inplace=True)\n",
    "plt.figure(figsize=(6,5))\n",
    "ax = sns.countplot(x=\"user/gender\", data=df_dev, order=['unknown','Male','Female'])\n",
    "\n",
    "\n",
    "for p in ax.patches:\n",
    "        ax.annotate('{}'.format(p.get_height()), (p.get_x()+0.1, p.get_height()+50))"
   ]
  },
  {
   "cell_type": "code",
   "execution_count": 55,
   "metadata": {
    "colab": {
     "base_uri": "https://localhost:8080/"
    },
    "executionInfo": {
     "elapsed": 5,
     "status": "ok",
     "timestamp": 1626097489861,
     "user": {
      "displayName": "ALMOUDI MOSTAFA",
      "photoUrl": "https://lh3.googleusercontent.com/a-/AOh14Ggag6Su7xYEbeg02b3KD79PPONoKQ9i52rxvDSbYw=s64",
      "userId": "02569998257955289351"
     },
     "user_tz": -180
    },
    "id": "yFjagJYdhKF7",
    "outputId": "1d15f283-f9a0-4ee7-de57-944e77d9b7b3",
    "scrolled": true
   },
   "outputs": [
    {
     "data": {
      "text/plain": [
       "beer/name           14770\n",
       "beer/style            104\n",
       "user/gender             3\n",
       "user/profileName    10573\n",
       "dtype: int64"
      ]
     },
     "execution_count": 55,
     "metadata": {},
     "output_type": "execute_result"
    }
   ],
   "source": [
    "df_dev[['beer/name','beer/style','user/gender','user/profileName']].nunique()"
   ]
  },
  {
   "cell_type": "code",
   "execution_count": 56,
   "metadata": {
    "executionInfo": {
     "elapsed": 13037,
     "status": "ok",
     "timestamp": 1626097502895,
     "user": {
      "displayName": "ALMOUDI MOSTAFA",
      "photoUrl": "https://lh3.googleusercontent.com/a-/AOh14Ggag6Su7xYEbeg02b3KD79PPONoKQ9i52rxvDSbYw=s64",
      "userId": "02569998257955289351"
     },
     "user_tz": -180
    },
    "id": "OCNZGADPhKF7"
   },
   "outputs": [],
   "source": [
    "from sklearn.feature_extraction.text import TfidfVectorizer\n",
    "\n",
    "vect =TfidfVectorizer (token_pattern=r'\\w{2,}',stop_words=\"english\",use_idf=True,max_df=0.8,min_df=0.01)\n",
    "wpm=vect.fit_transform(df[\"review/text\"].fillna(\"\"))\n",
    "freq = sorted(zip(vect.get_feature_names(), wpm.sum(axis=0).tolist()[0]), key=lambda x: x[1], reverse=True)\n",
    "words = [ word for word, _ in freq ]\n",
    "mask = [ w in words for w in vect.get_feature_names() ]\n",
    "words_ = [ w for w in vect.get_feature_names() if w in words ]\n",
    "words_df = pd.DataFrame(data=wpm[:, np.array(mask)].toarray(), columns=[f\"word_{word}\" for word in words_],index=df.index)\n",
    "df_new=df.drop(columns=['review/text','user/birthdayUnix','user/birthdayRaw','beer/name','user/gender'])\n",
    "df_new = pd.concat([df_new, words_df], axis=1)\n",
    "converter=31556952\n",
    "df_new['user/ageInSeconds'].fillna((df_new['user/ageInSeconds'].mean()),inplace=True)\n",
    "df_new['user/ageInSeconds']=df_new['user/ageInSeconds']/converter\n",
    "df_new['user/ageInSeconds'] = (df_new['user/ageInSeconds']+1).transform(np.log)"
   ]
  },
  {
   "cell_type": "code",
   "execution_count": 42,
   "metadata": {
    "scrolled": true
   },
   "outputs": [
    {
     "data": {
      "text/plain": [
       "841"
      ]
     },
     "execution_count": 42,
     "metadata": {},
     "output_type": "execute_result"
    }
   ],
   "source": [
    "len(freq)"
   ]
  },
  {
   "cell_type": "code",
   "execution_count": 57,
   "metadata": {
    "colab": {
     "base_uri": "https://localhost:8080/",
     "height": 198
    },
    "executionInfo": {
     "elapsed": 53513,
     "status": "ok",
     "timestamp": 1626097556402,
     "user": {
      "displayName": "ALMOUDI MOSTAFA",
      "photoUrl": "https://lh3.googleusercontent.com/a-/AOh14Ggag6Su7xYEbeg02b3KD79PPONoKQ9i52rxvDSbYw=s64",
      "userId": "02569998257955289351"
     },
     "user_tz": -180
    },
    "id": "p2xMOy7mhKF8",
    "outputId": "6dd594c6-a87b-45eb-92ea-f81708f86041"
   },
   "outputs": [
    {
     "data": {
      "image/png": "[encoded data removed]",
      "text/plain": [
       "<Figure size 432x288 with 1 Axes>"
      ]
     },
     "metadata": {
      "needs_background": "light"
     },
     "output_type": "display_data"
    }
   ],
   "source": [
    "from wordcloud import WordCloud\n",
    "feature_names = vect.get_feature_names()\n",
    "dense = wpm.todense()\n",
    "lst1 = dense.tolist()\n",
    "wc = pd.DataFrame(lst1, columns=feature_names)\n",
    "wc.T.sum(axis=1)\n",
    "Cloud = WordCloud(background_color=\"white\", max_words=50).generate_from_frequencies(wc.T.sum(axis=1))\n",
    "plt.figure()\n",
    "plt.imshow(Cloud, interpolation=\"bilinear\")\n",
    "plt.axis(\"off\")\n",
    "plt.show()"
   ]
  },
  {
   "cell_type": "code",
   "execution_count": 58,
   "metadata": {
    "executionInfo": {
     "elapsed": 1143,
     "status": "ok",
     "timestamp": 1626097557537,
     "user": {
      "displayName": "ALMOUDI MOSTAFA",
      "photoUrl": "https://lh3.googleusercontent.com/a-/AOh14Ggag6Su7xYEbeg02b3KD79PPONoKQ9i52rxvDSbYw=s64",
      "userId": "02569998257955289351"
     },
     "user_tz": -180
    },
    "id": "QYJCo8dZhKF8"
   },
   "outputs": [],
   "source": [
    "df_new.loc[df_new['user/profileName'].isin(list(df_new['user/profileName'].value_counts()[671:].index)),'user/profileName']='other'\n",
    "df_new = pd.get_dummies(df_new, columns=['user/profileName'])\n",
    "df_new.loc[df_new['beer/style'].isin(list(df_new['beer/style'].value_counts()[27:].index)),'beer/style']='other'\n",
    "df_new = pd.get_dummies(df_new, columns=['beer/style'])"
   ]
  },
  {
   "cell_type": "code",
   "execution_count": 59,
   "metadata": {
    "executionInfo": {
     "elapsed": 5657,
     "status": "ok",
     "timestamp": 1626097914138,
     "user": {
      "displayName": "ALMOUDI MOSTAFA",
      "photoUrl": "https://lh3.googleusercontent.com/a-/AOh14Ggag6Su7xYEbeg02b3KD79PPONoKQ9i52rxvDSbYw=s64",
      "userId": "02569998257955289351"
     },
     "user_tz": -180
    },
    "id": "3_02Em5ahKF8"
   },
   "outputs": [],
   "source": [
    "from sklearn.model_selection import train_test_split\n",
    "from sklearn.experimental import enable_hist_gradient_boosting\n",
    "from sklearn.ensemble import RandomForestRegressor,HistGradientBoostingRegressor\n",
    "from sklearn.metrics import r2_score\n",
    "from sklearn.svm import SVR\n",
    "from sklearn.linear_model import Ridge,Lasso,LinearRegression\n",
    "\n",
    "train_valid_mask = ~df_new[\"review/overall\"].isna()\n",
    "feature_names = df_new[train_valid_mask].drop(columns=[\"review/overall\"]).columns\n",
    "X = df_new.drop(columns=[\"review/overall\"]).values\n",
    "y = df_new[\"review/overall\"].values\n",
    "X_train_valid = X[train_valid_mask]\n",
    "y_train_valid = y[train_valid_mask]\n",
    "X_eval = X[~train_valid_mask]\n",
    "y_eval = y[~train_valid_mask]\n",
    "train_ratio = 0.75\n",
    "validation_ratio = 0.15\n",
    "test_ratio = 0.10\n",
    "X_train, X_test, y_train, y_test = train_test_split(X_train_valid, y_train_valid, shuffle=True, random_state=42,test_size=1-train_ratio)\n",
    "X_valid, X_test, y_valid, y_test = train_test_split(X_test, y_test, shuffle=True, random_state=42,test_size=test_ratio/(test_ratio + validation_ratio))"
   ]
  },
  {
   "cell_type": "markdown",
   "metadata": {},
   "source": [
    "Tuning hyperparameters"
   ]
  },
  {
   "cell_type": "code",
   "execution_count": 19,
   "metadata": {
    "colab": {
     "base_uri": "https://localhost:8080/"
    },
    "executionInfo": {
     "elapsed": 6691095,
     "status": "ok",
     "timestamp": 1626104690720,
     "user": {
      "displayName": "ALMOUDI MOSTAFA",
      "photoUrl": "https://lh3.googleusercontent.com/a-/AOh14Ggag6Su7xYEbeg02b3KD79PPONoKQ9i52rxvDSbYw=s64",
      "userId": "02569998257955289351"
     },
     "user_tz": -180
    },
    "id": "O_zibXmWhKGB",
    "outputId": "8f2f7c8c-dae7-4b30-b9df-ba3074b7cf10"
   },
   "outputs": [
    {
     "data": {
      "text/plain": [
       "0.6879010003639854"
      ]
     },
     "execution_count": 19,
     "metadata": {},
     "output_type": "execute_result"
    }
   ],
   "source": [
    "svr1=SVR(C=0.1)\n",
    "svr1.fit(X_train, y_train)\n",
    "r2_score(y_valid, svr1.predict(X_valid))"
   ]
  },
  {
   "cell_type": "code",
   "execution_count": 20,
   "metadata": {
    "colab": {
     "base_uri": "https://localhost:8080/"
    },
    "executionInfo": {
     "elapsed": 7068991,
     "status": "ok",
     "timestamp": 1626111759705,
     "user": {
      "displayName": "ALMOUDI MOSTAFA",
      "photoUrl": "https://lh3.googleusercontent.com/a-/AOh14Ggag6Su7xYEbeg02b3KD79PPONoKQ9i52rxvDSbYw=s64",
      "userId": "02569998257955289351"
     },
     "user_tz": -180
    },
    "id": "hc2wKsqPhKGB",
    "outputId": "99b3fb12-c59a-4559-e64b-0d911c70cf5c"
   },
   "outputs": [
    {
     "data": {
      "text/plain": [
       "0.7055615048904049"
      ]
     },
     "execution_count": 20,
     "metadata": {},
     "output_type": "execute_result"
    }
   ],
   "source": [
    "svr2=SVR(C=1)\n",
    "svr2.fit(X_train, y_train)\n",
    "r2_score(y_valid, svr2.predict(X_valid))"
   ]
  },
  {
   "cell_type": "code",
   "execution_count": 18,
   "metadata": {
    "id": "bemFxBh9hKGB"
   },
   "outputs": [
    {
     "data": {
      "text/plain": [
       "0.7098730015036638"
      ]
     },
     "execution_count": 18,
     "metadata": {},
     "output_type": "execute_result"
    }
   ],
   "source": [
    "svr3=SVR(C=10)\n",
    "svr3.fit(X_train, y_train)\n",
    "r2_score(y_valid, svr3.predict(X_valid))"
   ]
  },
  {
   "cell_type": "code",
   "execution_count": 83,
   "metadata": {
    "id": "zHhfclyoyoKV"
   },
   "outputs": [
    {
     "data": {
      "text/plain": [
       "0.6990734440164093"
      ]
     },
     "execution_count": 83,
     "metadata": {},
     "output_type": "execute_result"
    }
   ],
   "source": [
    "lr1=LinearRegression(fit_intercept=True)\n",
    "lr1.fit(X_train, y_train)\n",
    "r2_score(y_valid, lr1.predict(X_valid))"
   ]
  },
  {
   "cell_type": "code",
   "execution_count": 84,
   "metadata": {
    "id": "VRAGNGl6hKGC"
   },
   "outputs": [
    {
     "data": {
      "text/plain": [
       "0.6990637949806444"
      ]
     },
     "execution_count": 84,
     "metadata": {},
     "output_type": "execute_result"
    }
   ],
   "source": [
    "lr2=LinearRegression(fit_intercept=False)\n",
    "lr2.fit(X_train, y_train)\n",
    "r2_score(y_valid, lr2.predict(X_valid))"
   ]
  },
  {
   "cell_type": "code",
   "execution_count": 20,
   "metadata": {
    "id": "bMMgsvcKhKGC"
   },
   "outputs": [
    {
     "data": {
      "text/plain": [
       "0.6856542441810598"
      ]
     },
     "execution_count": 20,
     "metadata": {},
     "output_type": "execute_result"
    }
   ],
   "source": [
    "rfr1=RandomForestRegressor(n_estimators=250,max_depth=None,n_jobs=-1)\n",
    "rfr1.fit(X_train, y_train)\n",
    "r2_score(y_valid, rfr1.predict(X_valid))\n",
    "#0.6842776354754101"
   ]
  },
  {
   "cell_type": "code",
   "execution_count": 21,
   "metadata": {
    "id": "jJeRTaPUhKGC"
   },
   "outputs": [
    {
     "data": {
      "text/plain": [
       "0.6867483210451666"
      ]
     },
     "execution_count": 21,
     "metadata": {},
     "output_type": "execute_result"
    }
   ],
   "source": [
    "rfr2=RandomForestRegressor(n_estimators=500,max_depth=None,n_jobs=-1)\n",
    "rfr2.fit(X_train, y_train)\n",
    "r2_score(y_valid, rfr2.predict(X_valid))"
   ]
  },
  {
   "cell_type": "code",
   "execution_count": 28,
   "metadata": {
    "id": "E4Nc1_YbhKGC"
   },
   "outputs": [
    {
     "data": {
      "text/plain": [
       "0.684081528458959"
      ]
     },
     "execution_count": 28,
     "metadata": {},
     "output_type": "execute_result"
    }
   ],
   "source": [
    "rfr3=RandomForestRegressor(n_estimators=100,max_depth=None,n_jobs=-1)\n",
    "rfr3.fit(X_train, y_train)\n",
    "r2_score(y_valid, rfr3.predict(X_valid))"
   ]
  },
  {
   "cell_type": "code",
   "execution_count": 29,
   "metadata": {},
   "outputs": [
    {
     "data": {
      "text/plain": [
       "0.6833680980093217"
      ]
     },
     "execution_count": 29,
     "metadata": {},
     "output_type": "execute_result"
    }
   ],
   "source": [
    "rfr4=RandomForestRegressor(n_estimators=100,max_depth=50,n_jobs=-1)\n",
    "rfr4.fit(X_train, y_train)\n",
    "r2_score(y_valid, rfr4.predict(X_valid))"
   ]
  },
  {
   "cell_type": "code",
   "execution_count": 30,
   "metadata": {},
   "outputs": [
    {
     "data": {
      "text/plain": [
       "0.686670962392851"
      ]
     },
     "execution_count": 30,
     "metadata": {},
     "output_type": "execute_result"
    }
   ],
   "source": [
    "rfr5=RandomForestRegressor(n_estimators=250,max_depth=50,n_jobs=-1)\n",
    "rfr5.fit(X_train, y_train)\n",
    "r2_score(y_valid, rfr5.predict(X_valid))"
   ]
  },
  {
   "cell_type": "code",
   "execution_count": 31,
   "metadata": {},
   "outputs": [
    {
     "data": {
      "text/plain": [
       "0.6866039865930839"
      ]
     },
     "execution_count": 31,
     "metadata": {},
     "output_type": "execute_result"
    }
   ],
   "source": [
    "rfr6=RandomForestRegressor(n_estimators=500,max_depth=50,n_jobs=-1)\n",
    "rfr6.fit(X_train, y_train)\n",
    "r2_score(y_valid, rfr6.predict(X_valid))"
   ]
  },
  {
   "cell_type": "code",
   "execution_count": 24,
   "metadata": {},
   "outputs": [
    {
     "data": {
      "text/plain": [
       "0.6999686089459136"
      ]
     },
     "execution_count": 24,
     "metadata": {},
     "output_type": "execute_result"
    }
   ],
   "source": [
    "r1=Ridge(alpha=1)\n",
    "r1.fit(X_train, y_train)\n",
    "r2_score(y_valid, r1.predict(X_valid))"
   ]
  },
  {
   "cell_type": "code",
   "execution_count": 25,
   "metadata": {},
   "outputs": [
    {
     "data": {
      "text/plain": [
       "0.7011181707571669"
      ]
     },
     "execution_count": 25,
     "metadata": {},
     "output_type": "execute_result"
    }
   ],
   "source": [
    "r2=Ridge(alpha=5)\n",
    "r2.fit(X_train, y_train)\n",
    "r2_score(y_valid, r2.predict(X_valid))"
   ]
  },
  {
   "cell_type": "code",
   "execution_count": 26,
   "metadata": {},
   "outputs": [
    {
     "data": {
      "text/plain": [
       "0.7018964938276763"
      ]
     },
     "execution_count": 26,
     "metadata": {},
     "output_type": "execute_result"
    }
   ],
   "source": [
    "r3=Ridge(alpha=15)\n",
    "r3.fit(X_train, y_train)\n",
    "r2_score(y_valid, r3.predict(X_valid))"
   ]
  },
  {
   "cell_type": "code",
   "execution_count": 21,
   "metadata": {},
   "outputs": [
    {
     "data": {
      "text/plain": [
       "0.6807140695740925"
      ]
     },
     "execution_count": 21,
     "metadata": {},
     "output_type": "execute_result"
    }
   ],
   "source": [
    "l1=Lasso(alpha=0.001)\n",
    "l1.fit(X_train, y_train)\n",
    "r2_score(y_valid, l1.predict(X_valid))"
   ]
  },
  {
   "cell_type": "code",
   "execution_count": 22,
   "metadata": {},
   "outputs": [
    {
     "data": {
      "text/plain": [
       "0.6986780239038239"
      ]
     },
     "execution_count": 22,
     "metadata": {},
     "output_type": "execute_result"
    }
   ],
   "source": [
    "l2=Lasso(alpha=0.0001)\n",
    "l2.fit(X_train, y_train)\n",
    "r2_score(y_valid, l2.predict(X_valid))"
   ]
  },
  {
   "cell_type": "code",
   "execution_count": 23,
   "metadata": {},
   "outputs": [
    {
     "data": {
      "text/plain": [
       "0.7013428294131359"
      ]
     },
     "execution_count": 23,
     "metadata": {},
     "output_type": "execute_result"
    }
   ],
   "source": [
    "l3=Lasso(alpha=0.00001)\n",
    "l3.fit(X_train, y_train)\n",
    "r2_score(y_valid, l3.predict(X_valid))"
   ]
  },
  {
   "cell_type": "markdown",
   "metadata": {},
   "source": [
    "Model Selection of best configurations of the models on the test portion"
   ]
  },
  {
   "cell_type": "code",
   "execution_count": 60,
   "metadata": {},
   "outputs": [],
   "source": [
    "X_train_new=np.concatenate((X_train,X_valid))\n",
    "y_train_new=np.concatenate((y_train,y_valid))"
   ]
  },
  {
   "cell_type": "code",
   "execution_count": 105,
   "metadata": {
    "scrolled": false
   },
   "outputs": [
    {
     "data": {
      "text/plain": [
       "0.716338340823122"
      ]
     },
     "execution_count": 105,
     "metadata": {},
     "output_type": "execute_result"
    }
   ],
   "source": [
    "best_svr=SVR(C=10)\n",
    "best_svr.fit(X_train_new,y_train_new)\n",
    "r2_score(y_test,best_svr.predict(X_test))"
   ]
  },
  {
   "cell_type": "code",
   "execution_count": 101,
   "metadata": {},
   "outputs": [
    {
     "data": {
      "text/plain": [
       "0.7052023016660179"
      ]
     },
     "execution_count": 101,
     "metadata": {},
     "output_type": "execute_result"
    }
   ],
   "source": [
    "best_lr=LinearRegression(fit_intercept=True)\n",
    "best_lr.fit(X_train_new,y_train_new)\n",
    "r2_score(y_test,best_lr.predict(X_test))"
   ]
  },
  {
   "cell_type": "code",
   "execution_count": 61,
   "metadata": {},
   "outputs": [
    {
     "data": {
      "text/plain": [
       "0.6978548678379191"
      ]
     },
     "execution_count": 61,
     "metadata": {},
     "output_type": "execute_result"
    }
   ],
   "source": [
    "best_rfr=RandomForestRegressor(n_estimators=500,max_depth=None,n_jobs=-1)\n",
    "best_rfr.fit(X_train_new,y_train_new)\n",
    "r2_score(y_test,best_rfr.predict(X_test))"
   ]
  },
  {
   "cell_type": "code",
   "execution_count": 28,
   "metadata": {},
   "outputs": [
    {
     "data": {
      "text/plain": [
       "0.708404941799504"
      ]
     },
     "execution_count": 28,
     "metadata": {},
     "output_type": "execute_result"
    }
   ],
   "source": [
    "best_r=Ridge(alpha=15)\n",
    "best_r.fit(X_train_new,y_train_new)\n",
    "r2_score(y_test,best_r.predict(X_test))"
   ]
  },
  {
   "cell_type": "code",
   "execution_count": 29,
   "metadata": {},
   "outputs": [
    {
     "data": {
      "text/plain": [
       "0.7071211823793"
      ]
     },
     "execution_count": 29,
     "metadata": {},
     "output_type": "execute_result"
    }
   ],
   "source": [
    "best_l=Lasso(alpha=0.00001)\n",
    "best_l.fit(X_train_new,y_train_new)\n",
    "r2_score(y_test,best_l.predict(X_test))"
   ]
  },
  {
   "cell_type": "markdown",
   "metadata": {},
   "source": [
    "Final Model (SVR) on evaluation set"
   ]
  },
  {
   "cell_type": "code",
   "execution_count": null,
   "metadata": {
    "id": "Uw-bKYDxhKGC"
   },
   "outputs": [],
   "source": [
    "final_model=SVR(C=10)\n",
    "final_model.fit(X_train_valid, y_train_valid)\n",
    "y_pred1=final_model.predict(X_eval)"
   ]
  },
  {
   "cell_type": "code",
   "execution_count": 64,
   "metadata": {
    "executionInfo": {
     "elapsed": 5,
     "status": "ok",
     "timestamp": 1626094414141,
     "user": {
      "displayName": "ALMOUDI MOSTAFA",
      "photoUrl": "https://lh3.googleusercontent.com/a-/AOh14Ggag6Su7xYEbeg02b3KD79PPONoKQ9i52rxvDSbYw=s64",
      "userId": "02569998257955289351"
     },
     "user_tz": -180
    },
    "id": "i4wFvLEYhKGC"
   },
   "outputs": [],
   "source": [
    "pd.DataFrame(y_pred3, index=df_new[~train_valid_mask].index).to_csv(\"outputforest.csv\",index_label=\"Id\", header=[\"Predicted\"])"
   ]
  },
  {
   "cell_type": "code",
   "execution_count": 97,
   "metadata": {},
   "outputs": [],
   "source": [
    "l=sorted(zip(feature_names, best_rfr.feature_importances_), key=lambda x: x[1],reverse=True)[:5]"
   ]
  },
  {
   "cell_type": "code",
   "execution_count": 98,
   "metadata": {},
   "outputs": [],
   "source": [
    "top_features=list(map(lambda x:x[0],l))\n",
    "importance=list(map(lambda x:x[1],l))"
   ]
  },
  {
   "cell_type": "code",
   "execution_count": 100,
   "metadata": {
    "scrolled": true
   },
   "outputs": [
    {
     "data": {
      "text/plain": [
       "<BarContainer object of 5 artists>"
      ]
     },
     "execution_count": 100,
     "metadata": {},
     "output_type": "execute_result"
    },
    {
     "data": {
      "image/png": "[encoded data removed]",
      "text/plain": [
       "<Figure size 576x360 with 1 Axes>"
      ]
     },
     "metadata": {
      "needs_background": "light"
     },
     "output_type": "display_data"
    }
   ],
   "source": [
    "fig = plt.figure(figsize = (8, 5))\n",
    " \n",
    "plt.bar(top_features, importance)"
   ]
  }
 ],
 "metadata": {
  "colab": {
   "collapsed_sections": [],
   "machine_shape": "hm",
   "name": "fff.ipynb",
   "provenance": []
  },
  "kernelspec": {
   "display_name": "Python 3",
   "language": "python",
   "name": "python3"
  },
  "language_info": {
   "codemirror_mode": {
    "name": "ipython",
    "version": 3
   },
   "file_extension": ".py",
   "mimetype": "text/x-python",
   "name": "python",
   "nbconvert_exporter": "python",
   "pygments_lexer": "ipython3",
   "version": "3.8.5"
  }
 },
 "nbformat": 4,
 "nbformat_minor": 1
}
